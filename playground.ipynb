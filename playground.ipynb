{
 "cells": [
  {
   "cell_type": "markdown",
   "metadata": {},
   "source": [
    "# Playground"
   ]
  },
  {
   "cell_type": "markdown",
   "metadata": {},
   "source": [
    "This is a safe space where I am allowed to make mistakes. Failure will eventually lead to success."
   ]
  },
  {
   "cell_type": "code",
   "execution_count": 11,
   "metadata": {},
   "outputs": [],
   "source": [
    "# imports\n",
    "import time\n",
    "import threading"
   ]
  },
  {
   "cell_type": "code",
   "execution_count": 12,
   "metadata": {},
   "outputs": [],
   "source": [
    "# Dummy learning tasks.\n",
    "\n",
    "def eat_breakfast():\n",
    "    time.sleep(3)   \n",
    "    print('You ate breakfast.')\n",
    "\n",
    "def drink_coffee():\n",
    "    time.sleep(4)   \n",
    "    print('You drank coffee.')\n",
    "\n",
    "def study():\n",
    "    time.sleep(5)   \n",
    "    print('You studied.')"
   ]
  },
  {
   "cell_type": "code",
   "execution_count": 16,
   "metadata": {},
   "outputs": [
    {
     "name": "stdout",
     "output_type": "stream",
     "text": [
      "You ate breakfast.\n",
      "You drank coffee.\n",
      "You studied.\n",
      "seconds = 5.007362200063653\n"
     ]
    }
   ],
   "source": [
    "time_start = time.perf_counter()\n",
    "\n",
    "x = threading.Thread(target=eat_breakfast, args=())\n",
    "x.start()\n",
    "\n",
    "y = threading.Thread(target=drink_coffee, args=())\n",
    "y.start()\n",
    "\n",
    "z = threading.Thread(target=study, args=())\n",
    "z.start()\n",
    "\n",
    "z.join()\n",
    "\n",
    "time_end = time.perf_counter()\n",
    "print('seconds =', time_end - time_start)"
   ]
  },
  {
   "cell_type": "code",
   "execution_count": 13,
   "metadata": {},
   "outputs": [
    {
     "name": "stdout",
     "output_type": "stream",
     "text": [
      "You ate breakfast.\n",
      "You drank coffee.\n",
      "You studied.\n"
     ]
    }
   ],
   "source": [
    "eat_breakfast()\n",
    "drink_coffee()\n",
    "study()"
   ]
  }
 ],
 "metadata": {
  "kernelspec": {
   "display_name": "tf",
   "language": "python",
   "name": "python3"
  },
  "language_info": {
   "codemirror_mode": {
    "name": "ipython",
    "version": 3
   },
   "file_extension": ".py",
   "mimetype": "text/x-python",
   "name": "python",
   "nbconvert_exporter": "python",
   "pygments_lexer": "ipython3",
   "version": "3.10.13"
  }
 },
 "nbformat": 4,
 "nbformat_minor": 2
}
