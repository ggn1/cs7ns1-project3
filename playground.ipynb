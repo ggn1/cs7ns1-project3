{
 "cells": [
  {
   "cell_type": "markdown",
   "metadata": {},
   "source": [
    "# Playground"
   ]
  },
  {
   "cell_type": "markdown",
   "metadata": {},
   "source": [
    "This is a safe space where I am allowed to make mistakes. Failure will eventually lead to success."
   ]
  },
  {
   "cell_type": "code",
   "execution_count": 1,
   "metadata": {},
   "outputs": [],
   "source": [
    "# imports\n",
    "import time\n",
    "import socket\n",
    "import threading"
   ]
  },
  {
   "cell_type": "markdown",
   "metadata": {},
   "source": [
    "## Threading"
   ]
  },
  {
   "cell_type": "code",
   "execution_count": 12,
   "metadata": {},
   "outputs": [],
   "source": [
    "# Dummy learning tasks.\n",
    "def eat_breakfast():\n",
    "    time.sleep(3)   \n",
    "    print('You ate breakfast.')\n",
    "\n",
    "def drink_coffee():\n",
    "    time.sleep(4)   \n",
    "    print('You drank coffee.')\n",
    "\n",
    "def study():\n",
    "    time.sleep(5)   \n",
    "    print('You studied.')"
   ]
  },
  {
   "cell_type": "code",
   "execution_count": 16,
   "metadata": {},
   "outputs": [
    {
     "name": "stdout",
     "output_type": "stream",
     "text": [
      "You ate breakfast.\n",
      "You drank coffee.\n",
      "You studied.\n",
      "seconds = 5.007362200063653\n"
     ]
    }
   ],
   "source": [
    "time_start = time.perf_counter()\n",
    "\n",
    "x = threading.Thread(target=eat_breakfast, args=())\n",
    "x.start()\n",
    "\n",
    "y = threading.Thread(target=drink_coffee, args=())\n",
    "y.start()\n",
    "\n",
    "z = threading.Thread(target=study, args=())\n",
    "z.start()\n",
    "\n",
    "z.join()\n",
    "\n",
    "time_end = time.perf_counter()\n",
    "print('seconds =', time_end - time_start)"
   ]
  },
  {
   "cell_type": "code",
   "execution_count": 13,
   "metadata": {},
   "outputs": [
    {
     "name": "stdout",
     "output_type": "stream",
     "text": [
      "You ate breakfast.\n",
      "You drank coffee.\n",
      "You studied.\n"
     ]
    }
   ],
   "source": [
    "eat_breakfast()\n",
    "drink_coffee()\n",
    "study()"
   ]
  },
  {
   "cell_type": "markdown",
   "metadata": {},
   "source": [
    "## Socket Programming"
   ]
  },
  {
   "cell_type": "code",
   "execution_count": 3,
   "metadata": {},
   "outputs": [
    {
     "data": {
      "text/plain": [
       "'127.0.1.1'"
      ]
     },
     "execution_count": 3,
     "metadata": {},
     "output_type": "execute_result"
    }
   ],
   "source": []
  },
  {
   "cell_type": "code",
   "execution_count": 7,
   "metadata": {},
   "outputs": [
    {
     "ename": "AttributeError",
     "evalue": "module 'socket' has no attribute 'ETH_P_ALL'",
     "output_type": "error",
     "traceback": [
      "\u001b[0;31m---------------------------------------------------------------------------\u001b[0m",
      "\u001b[0;31mAttributeError\u001b[0m                            Traceback (most recent call last)",
      "\u001b[1;32m/home/g3/tcd/sc7ns1-project3/playground.ipynb Cell 9\u001b[0m line \u001b[0;36m2\n\u001b[1;32m      <a href='vscode-notebook-cell://wsl%2Bubuntu/home/g3/tcd/sc7ns1-project3/playground.ipynb#X12sdnNjb2RlLXJlbW90ZQ%3D%3D?line=0'>1</a>\u001b[0m \u001b[39mimport\u001b[39;00m \u001b[39msocket\u001b[39;00m\n\u001b[0;32m----> <a href='vscode-notebook-cell://wsl%2Bubuntu/home/g3/tcd/sc7ns1-project3/playground.ipynb#X12sdnNjb2RlLXJlbW90ZQ%3D%3D?line=1'>2</a>\u001b[0m rawSocket \u001b[39m=\u001b[39m socket\u001b[39m.\u001b[39msocket(socket\u001b[39m.\u001b[39mPF_PACKET, socket\u001b[39m.\u001b[39mSOCK_RAW, socket\u001b[39m.\u001b[39;49mETH_P_ALL)\n\u001b[1;32m      <a href='vscode-notebook-cell://wsl%2Bubuntu/home/g3/tcd/sc7ns1-project3/playground.ipynb#X12sdnNjb2RlLXJlbW90ZQ%3D%3D?line=2'>3</a>\u001b[0m \u001b[39mprint\u001b[39m(\u001b[39m\"\u001b[39m\u001b[39mWorked!\u001b[39m\u001b[39m\"\u001b[39m)\n",
      "\u001b[0;31mAttributeError\u001b[0m: module 'socket' has no attribute 'ETH_P_ALL'"
     ]
    }
   ],
   "source": [
    "import socket\n",
    "rawSocket = socket.socket(socket.PF_PACKET, socket.SOCK_RAW, socket.ETH_P_ALL)\n",
    "print(\"Worked!\")"
   ]
  }
 ],
 "metadata": {
  "kernelspec": {
   "display_name": "tf",
   "language": "python",
   "name": "python3"
  },
  "language_info": {
   "codemirror_mode": {
    "name": "ipython",
    "version": 3
   },
   "file_extension": ".py",
   "mimetype": "text/x-python",
   "name": "python",
   "nbconvert_exporter": "python",
   "pygments_lexer": "ipython3",
   "version": "3.12.0"
  }
 },
 "nbformat": 4,
 "nbformat_minor": 2
}
